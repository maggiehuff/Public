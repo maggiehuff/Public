{
 "cells": [
  {
   "cell_type": "markdown",
   "id": "30d45f83",
   "metadata": {},
   "source": []
  },
  {
   "cell_type": "code",
   "execution_count": null,
   "id": "96b5be39",
   "metadata": {},
   "outputs": [],
   "source": [
    "import numpy as np\n",
    "import pandas as pd"
   ]
  },
  {
   "cell_type": "code",
   "execution_count": null,
   "id": "9450eb08",
   "metadata": {},
   "outputs": [],
   "source": [
    "xls = pd.ExcelFile('Basic_linear_data.xlsx')\n",
    "ASBO1sheet = pd.read_excel(xls, sheet_name=xls.sheet_names[0])\n",
    "ASBO2sheet = pd.read_excel(xls, sheet_name=xls.sheet_names[1])\n",
    "\n",
    "ASBO1_time=ASBO1sheet.loc[:,\"ASBO1 time\"]\n",
    "ASBO1_amp_brg=ASBO1sheet.loc[:,\"Amplitude brg side\"]\n",
    "ASBO1_amp_brg_ref=ASBO1sheet.loc[:,\"Reference amplitude brg region\"]"
   ]
  }
 ],
 "metadata": {
  "kernelspec": {
   "display_name": "basic",
   "language": "python",
   "name": "python3"
  },
  "language_info": {
   "codemirror_mode": {
    "name": "ipython",
    "version": 3
   },
   "file_extension": ".py",
   "mimetype": "text/x-python",
   "name": "python",
   "nbconvert_exporter": "python",
   "pygments_lexer": "ipython3",
   "version": "3.10.18"
  }
 },
 "nbformat": 4,
 "nbformat_minor": 5
}
